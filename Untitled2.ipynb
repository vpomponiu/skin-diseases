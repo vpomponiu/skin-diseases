{
 "cells": [
  {
   "cell_type": "code",
   "execution_count": 1,
   "metadata": {},
   "outputs": [
    {
     "name": "stdout",
     "output_type": "stream",
     "text": [
      "Train on 140 samples, validate on 60 samples\n",
      "Epoch 1/10\n",
      "140/140 [==============================] - 1s 8ms/step - loss: 0.7123 - acc: 0.5286 - val_loss: 0.6934 - val_acc: 0.5167\n",
      "Epoch 2/10\n",
      "140/140 [==============================] - 1s 6ms/step - loss: 0.6932 - acc: 0.5357 - val_loss: 0.6905 - val_acc: 0.4833\n",
      "Epoch 3/10\n",
      "140/140 [==============================] - 1s 6ms/step - loss: 0.6913 - acc: 0.5071 - val_loss: 0.6968 - val_acc: 0.4833\n",
      "Epoch 4/10\n",
      "140/140 [==============================] - 1s 7ms/step - loss: 0.6854 - acc: 0.5071 - val_loss: 0.6888 - val_acc: 0.4833\n",
      "Epoch 5/10\n",
      "140/140 [==============================] - 1s 7ms/step - loss: 0.6901 - acc: 0.4929 - val_loss: 0.6870 - val_acc: 0.7000\n",
      "Epoch 6/10\n",
      "140/140 [==============================] - 1s 6ms/step - loss: 0.6838 - acc: 0.5929 - val_loss: 0.6820 - val_acc: 0.4833\n",
      "Epoch 7/10\n",
      "140/140 [==============================] - 1s 6ms/step - loss: 0.6753 - acc: 0.5286 - val_loss: 0.6775 - val_acc: 0.4833\n",
      "Epoch 8/10\n",
      "140/140 [==============================] - 1s 6ms/step - loss: 0.6585 - acc: 0.5357 - val_loss: 0.6662 - val_acc: 0.4833\n",
      "Epoch 9/10\n",
      "140/140 [==============================] - 1s 6ms/step - loss: 0.6571 - acc: 0.5143 - val_loss: 0.6394 - val_acc: 0.6667\n",
      "Epoch 10/10\n",
      "140/140 [==============================] - 1s 6ms/step - loss: 0.6472 - acc: 0.6357 - val_loss: 0.6336 - val_acc: 0.7000\n"
     ]
    },
    {
     "data": {
      "text/plain": [
       "<tensorflow.python.keras.callbacks.History at 0x1d034234c50>"
      ]
     },
     "execution_count": 1,
     "metadata": {},
     "output_type": "execute_result"
    }
   ],
   "source": [
    "from tensorflow.keras.models import Sequential\n",
    "from tensorflow.keras.layers import Dense, Dropout, Activation, Flatten\n",
    "from tensorflow.keras.layers import Conv2D, MaxPooling2D\n",
    "# more info on callbakcs: https://keras.io/callbacks/ model saver is cool too.\n",
    "from tensorflow.keras.callbacks import TensorBoard\n",
    "import pickle\n",
    "import time\n",
    "\n",
    "NAME = \"Cats-vs-dogs-64x2-CNN\"\n",
    "\n",
    "pickle_in = open(\"X.pickle\",\"rb\")\n",
    "X = pickle.load(pickle_in)\n",
    "\n",
    "pickle_in = open(\"y.pickle\",\"rb\")\n",
    "y = pickle.load(pickle_in)\n",
    "\n",
    "X = X/255.0\n",
    "\n",
    "model = Sequential()\n",
    "\n",
    "model.add(Conv2D(64, (3, 3), input_shape=X.shape[1:]))\n",
    "model.add(Activation('relu'))\n",
    "model.add(MaxPooling2D(pool_size=(2, 2)))\n",
    "\n",
    "model.add(Conv2D(64, (3, 3)))\n",
    "model.add(Activation('relu'))\n",
    "model.add(MaxPooling2D(pool_size=(2, 2)))\n",
    "\n",
    "model.add(Flatten())  # this converts our 3D feature maps to 1D feature vectors\n",
    "model.add(Dense(64))\n",
    "model.add(Activation('relu'))\n",
    "\n",
    "model.add(Dense(1))\n",
    "model.add(Activation('sigmoid'))\n",
    "\n",
    "tensorboard = TensorBoard(log_dir=\"logs/{}\".format(NAME))\n",
    "\n",
    "model.compile(loss='binary_crossentropy',\n",
    "              optimizer='adam',\n",
    "              metrics=['accuracy'],\n",
    "              )\n",
    "\n",
    "model.fit(X, y,\n",
    "          batch_size=32,\n",
    "          epochs=10,\n",
    "          validation_split=0.3,\n",
    "          callbacks=[tensorboard])"
   ]
  },
  {
   "cell_type": "code",
   "execution_count": null,
   "metadata": {},
   "outputs": [],
   "source": []
  }
 ],
 "metadata": {
  "kernelspec": {
   "display_name": "Python 3",
   "language": "python",
   "name": "python3"
  },
  "language_info": {
   "codemirror_mode": {
    "name": "ipython",
    "version": 3
   },
   "file_extension": ".py",
   "mimetype": "text/x-python",
   "name": "python",
   "nbconvert_exporter": "python",
   "pygments_lexer": "ipython3",
   "version": "3.6.7"
  }
 },
 "nbformat": 4,
 "nbformat_minor": 2
}
